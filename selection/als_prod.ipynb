{
 "cells": [
  {
   "cell_type": "code",
   "execution_count": null,
   "id": "ac4ca009",
   "metadata": {},
   "outputs": [],
   "source": [
    "import pandas as pd\n",
    "import numpy as np\n",
    "\n",
    "import scipy.sparse as sparse\n",
    "import implicit \n",
    "\n",
    "from tqdm.notebook import tqdm\n",
    "import seaborn as sns"
   ]
  },
  {
   "cell_type": "code",
   "execution_count": null,
   "id": "a4f3ec7d",
   "metadata": {},
   "outputs": [],
   "source": [
    "TRAIN_PATH = 'data/train.parquet.gzip'\n",
    "CANDIDATES_PATH = 'data/fresh_candidates.parquet.gzip'\n",
    "pop_preds = [4628, 103927, 146586,  18584,  75560,  44269,  58977, 227420,\n",
    "       130953,  11244, 130122, 173607, 121430, 195239,  73059,  52801,\n",
    "       105708, 224095,  55854,  24951]"
   ]
  },
  {
   "cell_type": "code",
   "execution_count": null,
   "id": "91a29500",
   "metadata": {},
   "outputs": [],
   "source": [
    "class DataPreprocessor:\n",
    "    \n",
    "    def __init__(self, penalty_threshold=.25, ts_quantile=.95, ts_power=2.5):\n",
    "        self.penalty_threshold = penalty_threshold\n",
    "        self.quantile = ts_quantile\n",
    "        self.ts_power = ts_power\n",
    "        \n",
    "    def get_penalty(self):\n",
    "        train_rank = self.train.index\n",
    "        max_user_rank = self.train.reset_index().groupby(\"user_id\").transform(max)['index']\n",
    "        min_user_rank = self.train.reset_index().groupby(\"user_id\").transform(min)['index']\n",
    "        norm_user_rank = (train_rank - min_user_rank) / (max_user_rank - min_user_rank) \\\n",
    "                                                                            + self.penalty_threshold\n",
    "        return norm_user_rank\n",
    "    \n",
    "    def clip_timespent(self):        \n",
    "        quantile_user_ts = self.train.groupby('item_id')['timespent'] \\\n",
    "                           .transform('quantile', self.quantile) \\\n",
    "                           .astype(int)\n",
    "        cliped_ts = np.min([self.train[\"timespent\"], quantile_user_ts], axis=0)\n",
    "        return cliped_ts\n",
    "    \n",
    "    def filter_train(self):\n",
    "        candidates_df = pd.read_parquet(self.candidates_path)\n",
    "        self.train = self.train[self.train[\"item_id\"].isin(candidates_df[\"item_id\"])]\n",
    "        \n",
    "    def idx_mapping(self):       \n",
    "        self.user2idx = {v: k for k, v in enumerate(self.train['user_id'].unique())}\n",
    "        self.item2idx = {v: k for k, v in enumerate(self.train['item_id'].unique())}\n",
    "        \n",
    "        self.idx2user = {k:v for v, k in self.user2idx.items()}\n",
    "        self.idx2item = {k:v for v, k in self.item2idx.items()}\n",
    "        \n",
    "        self.train['user_id'] = self.train['user_id'].map(self.user2idx)\n",
    "        self.train['item_id'] = self.train['item_id'].map(self.item2idx)\n",
    "        \n",
    "        \n",
    "    def fit(self, train_path, candidates_path):\n",
    "        self.candidates_path = candidates_path\n",
    "        self.train = pd.read_parquet(train_path)\n",
    "        self.train['timespent'] = self.train['timespent'] + 1\n",
    "        \n",
    "    def transform(self):\n",
    "        norm_user_rank = self.get_penalty()\n",
    "        cliped_ts = self.clip_timespent()        \n",
    "        self.train['feature_als'] = np.power(cliped_ts * norm_user_rank , self.ts_power)\n",
    "        self.filter_train()\n",
    "        self.idx_mapping()\n",
    "        \n",
    "        sparse_user_item = sparse.csr_matrix((self.train['feature_als'], \n",
    "                                              (self.train['user_id'], self.train['item_id'])))\n",
    "        return sparse_user_item\n",
    "        "
   ]
  },
  {
   "cell_type": "code",
   "execution_count": 9,
   "id": "3aaa4a6f",
   "metadata": {},
   "outputs": [],
   "source": [
    "prepr = DataPreprocessor()"
   ]
  },
  {
   "cell_type": "code",
   "execution_count": 10,
   "id": "308a9c9e",
   "metadata": {},
   "outputs": [
    {
     "name": "stdout",
     "output_type": "stream",
     "text": [
      "CPU times: user 7.18 s, sys: 2.28 s, total: 9.46 s\n",
      "Wall time: 4.13 s\n"
     ]
    }
   ],
   "source": [
    "%%time\n",
    "prepr.fit(TRAIN_PATH, CANDIDATES_PATH)"
   ]
  },
  {
   "cell_type": "code",
   "execution_count": 11,
   "id": "f93ab6a0",
   "metadata": {},
   "outputs": [
    {
     "name": "stdout",
     "output_type": "stream",
     "text": [
      "CPU times: user 2min 7s, sys: 31.3 s, total: 2min 38s\n",
      "Wall time: 2min 17s\n"
     ]
    }
   ],
   "source": [
    "%%time\n",
    "sp_mat = prepr.transform()"
   ]
  },
  {
   "cell_type": "code",
   "execution_count": 12,
   "id": "fc6aa4d7",
   "metadata": {},
   "outputs": [],
   "source": [
    "model = implicit.als.AlternatingLeastSquares(factors=756, \n",
    "                                             regularization=0.001, \n",
    "                                             iterations=40, \n",
    "                                             use_native=True, \n",
    "                                             use_cg=True,)"
   ]
  },
  {
   "cell_type": "code",
   "execution_count": 13,
   "id": "b9f9cdcf",
   "metadata": {},
   "outputs": [
    {
     "data": {
      "application/vnd.jupyter.widget-view+json": {
       "model_id": "2a7f5f95769d46d2a983610917c855d3",
       "version_major": 2,
       "version_minor": 0
      },
      "text/plain": [
       "  0%|          | 0/40 [00:00<?, ?it/s]"
      ]
     },
     "metadata": {},
     "output_type": "display_data"
    }
   ],
   "source": [
    "model.fit(sp_mat)"
   ]
  },
  {
   "cell_type": "code",
   "execution_count": 18,
   "id": "fdb63a70",
   "metadata": {},
   "outputs": [],
   "source": [
    "test = pd.read_parquet('data/test.parquet.gzip')"
   ]
  },
  {
   "cell_type": "code",
   "execution_count": 19,
   "id": "76940105",
   "metadata": {},
   "outputs": [],
   "source": [
    "def recommend(user_id, filter_items=None):\n",
    "    user_idx = prepr.user2idx[user_id]\n",
    "    recommended = model.recommend(user_idx, \n",
    "                                  sp_mat[user_idx], \n",
    "                                  N=20, \n",
    "                                  filter_items=filter_items)[0]\n",
    "    recommended = [*map(prepr.idx2item.get, recommended)]\n",
    "    return recommended"
   ]
  },
  {
   "cell_type": "code",
   "execution_count": 20,
   "id": "ccf93ae6",
   "metadata": {},
   "outputs": [
    {
     "data": {
      "application/vnd.jupyter.widget-view+json": {
       "model_id": "73d12f13d8e844a5b5626a9a4202d896",
       "version_major": 2,
       "version_minor": 0
      },
      "text/plain": [
       "  0%|          | 0/200000 [00:00<?, ?it/s]"
      ]
     },
     "metadata": {},
     "output_type": "display_data"
    },
    {
     "name": "stdout",
     "output_type": "stream",
     "text": [
      "OK but 15 errors\n"
     ]
    }
   ],
   "source": [
    "num_errors = 0\n",
    "predictions = []\n",
    "\n",
    "for user_id in tqdm(test.user_id):\n",
    "    try:\n",
    "        predictions.append(recommend(user_id, None))\n",
    "    except:\n",
    "        predictions.append(pop_preds)\n",
    "        num_errors += 1\n",
    "print(f\"OK but {num_errors} errors\") "
   ]
  },
  {
   "cell_type": "code",
   "execution_count": 21,
   "id": "c7f5bc51",
   "metadata": {},
   "outputs": [
    {
     "data": {
      "text/html": [
       "<div>\n",
       "<style scoped>\n",
       "    .dataframe tbody tr th:only-of-type {\n",
       "        vertical-align: middle;\n",
       "    }\n",
       "\n",
       "    .dataframe tbody tr th {\n",
       "        vertical-align: top;\n",
       "    }\n",
       "\n",
       "    .dataframe thead th {\n",
       "        text-align: right;\n",
       "    }\n",
       "</style>\n",
       "<table border=\"1\" class=\"dataframe\">\n",
       "  <thead>\n",
       "    <tr style=\"text-align: right;\">\n",
       "      <th></th>\n",
       "      <th>user_id</th>\n",
       "      <th>predictions</th>\n",
       "    </tr>\n",
       "  </thead>\n",
       "  <tbody>\n",
       "    <tr>\n",
       "      <th>0</th>\n",
       "      <td>7</td>\n",
       "      <td>[162251, 63017, 115127, 77577, 221001, 97314, ...</td>\n",
       "    </tr>\n",
       "    <tr>\n",
       "      <th>1</th>\n",
       "      <td>8</td>\n",
       "      <td>[97249, 142183, 105397, 44222, 163702, 101122,...</td>\n",
       "    </tr>\n",
       "    <tr>\n",
       "      <th>2</th>\n",
       "      <td>9</td>\n",
       "      <td>[227299, 144772, 63495, 149513, 96717, 32474, ...</td>\n",
       "    </tr>\n",
       "    <tr>\n",
       "      <th>3</th>\n",
       "      <td>11</td>\n",
       "      <td>[39597, 143520, 211646, 128262, 38136, 159480,...</td>\n",
       "    </tr>\n",
       "    <tr>\n",
       "      <th>4</th>\n",
       "      <td>18</td>\n",
       "      <td>[190377, 155973, 139289, 120767, 206293, 18141...</td>\n",
       "    </tr>\n",
       "    <tr>\n",
       "      <th>...</th>\n",
       "      <td>...</td>\n",
       "      <td>...</td>\n",
       "    </tr>\n",
       "    <tr>\n",
       "      <th>199995</th>\n",
       "      <td>1000160</td>\n",
       "      <td>[220549, 52187, 198552, 91078, 170326, 44273, ...</td>\n",
       "    </tr>\n",
       "    <tr>\n",
       "      <th>199996</th>\n",
       "      <td>1000165</td>\n",
       "      <td>[210739, 14866, 120027, 157041, 23921, 216251,...</td>\n",
       "    </tr>\n",
       "    <tr>\n",
       "      <th>199997</th>\n",
       "      <td>1000166</td>\n",
       "      <td>[73237, 20953, 23837, 101401, 66499, 157041, 8...</td>\n",
       "    </tr>\n",
       "    <tr>\n",
       "      <th>199998</th>\n",
       "      <td>1000168</td>\n",
       "      <td>[179166, 98609, 51819, 53550, 75882, 119088, 1...</td>\n",
       "    </tr>\n",
       "    <tr>\n",
       "      <th>199999</th>\n",
       "      <td>1000172</td>\n",
       "      <td>[3262, 179163, 143456, 23727, 41068, 214688, 6...</td>\n",
       "    </tr>\n",
       "  </tbody>\n",
       "</table>\n",
       "<p>200000 rows × 2 columns</p>\n",
       "</div>"
      ],
      "text/plain": [
       "        user_id                                        predictions\n",
       "0             7  [162251, 63017, 115127, 77577, 221001, 97314, ...\n",
       "1             8  [97249, 142183, 105397, 44222, 163702, 101122,...\n",
       "2             9  [227299, 144772, 63495, 149513, 96717, 32474, ...\n",
       "3            11  [39597, 143520, 211646, 128262, 38136, 159480,...\n",
       "4            18  [190377, 155973, 139289, 120767, 206293, 18141...\n",
       "...         ...                                                ...\n",
       "199995  1000160  [220549, 52187, 198552, 91078, 170326, 44273, ...\n",
       "199996  1000165  [210739, 14866, 120027, 157041, 23921, 216251,...\n",
       "199997  1000166  [73237, 20953, 23837, 101401, 66499, 157041, 8...\n",
       "199998  1000168  [179166, 98609, 51819, 53550, 75882, 119088, 1...\n",
       "199999  1000172  [3262, 179163, 143456, 23727, 41068, 214688, 6...\n",
       "\n",
       "[200000 rows x 2 columns]"
      ]
     },
     "execution_count": 21,
     "metadata": {},
     "output_type": "execute_result"
    }
   ],
   "source": [
    "test['predictions'] = predictions\n",
    "test"
   ]
  },
  {
   "cell_type": "code",
   "execution_count": 22,
   "id": "af08839e",
   "metadata": {},
   "outputs": [],
   "source": [
    "test.to_parquet('data/submission_files/als_top20.parquet.gzip', compression='gzip')"
   ]
  },
  {
   "cell_type": "code",
   "execution_count": null,
   "id": "7bbb4a9c",
   "metadata": {},
   "outputs": [],
   "source": []
  }
 ],
 "metadata": {
  "kernelspec": {
   "display_name": "Python 3",
   "language": "python",
   "name": "python3"
  },
  "language_info": {
   "codemirror_mode": {
    "name": "ipython",
    "version": 3
   },
   "file_extension": ".py",
   "mimetype": "text/x-python",
   "name": "python",
   "nbconvert_exporter": "python",
   "pygments_lexer": "ipython3",
   "version": "3.8.10"
  }
 },
 "nbformat": 4,
 "nbformat_minor": 5
}
